{
  "nbformat": 4,
  "nbformat_minor": 0,
  "metadata": {
    "colab": {
      "name": "MLproject.ipynb",
      "provenance": [],
      "collapsed_sections": []
    },
    "kernelspec": {
      "name": "python3",
      "display_name": "Python 3"
    },
    "language_info": {
      "name": "python"
    }
  },
  "cells": [
    {
      "cell_type": "markdown",
      "metadata": {
        "id": "FdTd0ISInPep"
      },
      "source": [
        "81610 - Machine Learning project"
      ]
    },
    {
      "cell_type": "markdown",
      "metadata": {
        "id": "exzLcj1UnpAq"
      },
      "source": [
        "# Introduction \n",
        "This project contains a sentiment analysis on a IMDB reviews dataset. The dataset contains 50,000 highly polar movie reviews labeled by sentiment, in which there is an even number of positive and negative reviews. Half of the dataset is used for training+validation and the other half is used for testing. Three different deep learning networks are constructed; a MLP, CNN and LSTM. This is done by using Keras Sequential API. At the end the different models are tested on a couple of tweets and then the performances are discussed. "
      ]
    },
    {
      "cell_type": "markdown",
      "metadata": {
        "id": "I_BIZrfz5UEK"
      },
      "source": [
        "# Libraries and installments"
      ]
    },
    {
      "cell_type": "code",
      "metadata": {
        "id": "Y3KHvKKBxKtZ"
      },
      "source": [
        "# General libaries\n",
        "import numpy as np\n",
        "from random import randrange\n",
        "\n",
        "# For models \n",
        "from keras import models\n",
        "from keras.models import Sequential\n",
        "from keras import layers\n",
        "from keras.layers import Dense, Flatten, Embedding, Conv1D, MaxPooling1D, GlobalMaxPooling1D, LSTM, SimpleRNN, Activation, Dropout\n",
        "from keras.preprocessing import sequence\n",
        "from keras.callbacks import EarlyStopping, ReduceLROnPlateau, ModelCheckpoint\n",
        "\n",
        "# For data visualisation\n",
        "import matplotlib\n",
        "import matplotlib.pyplot as plt"
      ],
      "execution_count": 14,
      "outputs": []
    },
    {
      "cell_type": "code",
      "metadata": {
        "colab": {
          "base_uri": "https://localhost:8080/",
          "height": 0
        },
        "id": "7Dn3x-t62-Ni",
        "outputId": "a0c35ac8-8a0f-4da1-bec0-1a9062c4c74e"
      },
      "source": [
        "!pip install h5py"
      ],
      "execution_count": 15,
      "outputs": [
        {
          "output_type": "stream",
          "name": "stdout",
          "text": [
            "Requirement already satisfied: h5py in /usr/local/lib/python3.7/dist-packages (3.1.0)\n",
            "Requirement already satisfied: numpy>=1.14.5 in /usr/local/lib/python3.7/dist-packages (from h5py) (1.19.5)\n",
            "Requirement already satisfied: cached-property in /usr/local/lib/python3.7/dist-packages (from h5py) (1.5.2)\n"
          ]
        }
      ]
    },
    {
      "cell_type": "markdown",
      "metadata": {
        "id": "wGWlBUYK5INu"
      },
      "source": [
        "\n",
        "# Dataset\n",
        "The models will use all the words in the vocabulary.\n"
      ]
    },
    {
      "cell_type": "markdown",
      "metadata": {
        "id": "OTlxGhKHdmLX"
      },
      "source": [
        "**Importing the dataset from Keras**"
      ]
    },
    {
      "cell_type": "code",
      "metadata": {
        "id": "ijL0CmhgxoIP",
        "colab": {
          "base_uri": "https://localhost:8080/",
          "height": 0
        },
        "outputId": "20bef9fe-c711-45fb-fd91-0111dedf660c"
      },
      "source": [
        "# Import dataset\n",
        "from keras.datasets import imdb\n",
        "word_indices = imdb.get_word_index()\n",
        "vocabulary = len(word_indices)\n",
        "print(\"There are\",vocabulary, \"unique words\")"
      ],
      "execution_count": 16,
      "outputs": [
        {
          "output_type": "stream",
          "name": "stdout",
          "text": [
            "There are 88584 unique words\n"
          ]
        }
      ]
    },
    {
      "cell_type": "code",
      "source": [
        "# Loading the data\n",
        "(x_train, y_train), (x_test, y_test) = imdb.load_data(num_words=vocabulary)\n",
        "\n",
        "# Merging the training and test sets\n",
        "x = np.concatenate((x_train, x_test), axis=0)\n",
        "y = np.concatenate((y_train, y_test), axis=0)"
      ],
      "metadata": {
        "id": "_M8u4fpaEC7J"
      },
      "execution_count": 17,
      "outputs": []
    },
    {
      "cell_type": "markdown",
      "metadata": {
        "id": "IlND91LmdGra"
      },
      "source": [
        "**Exploring the dataset**"
      ]
    },
    {
      "cell_type": "code",
      "metadata": {
        "colab": {
          "base_uri": "https://localhost:8080/",
          "height": 0
        },
        "id": "TrMW3psQ59lE",
        "outputId": "ca57f318-a986-46d3-f580-774087a0d1e0"
      },
      "source": [
        "# Properties of the dataset\n",
        "print(\"Size of dataset:\", len(x))\n",
        "print(\"Size of training data:\", len(x_train))\n",
        "print(\"Size of test data:\", len(x_test))\n",
        "print(\"Classification of data:\", np.unique(y))"
      ],
      "execution_count": 18,
      "outputs": [
        {
          "output_type": "stream",
          "name": "stdout",
          "text": [
            "Size of dataset: 50000\n",
            "Size of training data: 25000\n",
            "Size of test data: 25000\n",
            "Classification of data: [0 1]\n"
          ]
        }
      ]
    },
    {
      "cell_type": "code",
      "metadata": {
        "colab": {
          "base_uri": "https://localhost:8080/",
          "height": 0
        },
        "id": "wnT0lI6YNubQ",
        "outputId": "88851651-cdb7-4923-ce89-c27a3a95b009"
      },
      "source": [
        "# The length of the longest review  \n",
        "longest_review = max(len(review) for review in x)\n",
        "print(\"The longest review:\", longest_review)\n",
        "\n",
        "# Average size of a review\n",
        "sizes = [len(x_i) for x_i in x]\n",
        "print(\"Average review length:\", np.mean(sizes))\n",
        "\n",
        "# Median length of a review\n",
        "print(\"Median review legth:\", np.median(sizes))"
      ],
      "execution_count": 19,
      "outputs": [
        {
          "output_type": "stream",
          "name": "stdout",
          "text": [
            "The longest review: 2494\n",
            "Average review length: 234.75892\n",
            "Median review legth: 176.0\n"
          ]
        }
      ]
    },
    {
      "cell_type": "code",
      "metadata": {
        "id": "iN-IRLFWdPlV",
        "colab": {
          "base_uri": "https://localhost:8080/",
          "height": 0
        },
        "outputId": "6fa9af75-b680-4678-f3f1-2d3120e09efa"
      },
      "source": [
        "# Format of a review\n",
        "print(x[0])"
      ],
      "execution_count": 20,
      "outputs": [
        {
          "output_type": "stream",
          "name": "stdout",
          "text": [
            "[1, 14, 22, 16, 43, 530, 973, 1622, 1385, 65, 458, 4468, 66, 3941, 4, 173, 36, 256, 5, 25, 100, 43, 838, 112, 50, 670, 22665, 9, 35, 480, 284, 5, 150, 4, 172, 112, 167, 21631, 336, 385, 39, 4, 172, 4536, 1111, 17, 546, 38, 13, 447, 4, 192, 50, 16, 6, 147, 2025, 19, 14, 22, 4, 1920, 4613, 469, 4, 22, 71, 87, 12, 16, 43, 530, 38, 76, 15, 13, 1247, 4, 22, 17, 515, 17, 12, 16, 626, 18, 19193, 5, 62, 386, 12, 8, 316, 8, 106, 5, 4, 2223, 5244, 16, 480, 66, 3785, 33, 4, 130, 12, 16, 38, 619, 5, 25, 124, 51, 36, 135, 48, 25, 1415, 33, 6, 22, 12, 215, 28, 77, 52, 5, 14, 407, 16, 82, 10311, 8, 4, 107, 117, 5952, 15, 256, 4, 31050, 7, 3766, 5, 723, 36, 71, 43, 530, 476, 26, 400, 317, 46, 7, 4, 12118, 1029, 13, 104, 88, 4, 381, 15, 297, 98, 32, 2071, 56, 26, 141, 6, 194, 7486, 18, 4, 226, 22, 21, 134, 476, 26, 480, 5, 144, 30, 5535, 18, 51, 36, 28, 224, 92, 25, 104, 4, 226, 65, 16, 38, 1334, 88, 12, 16, 283, 5, 16, 4472, 113, 103, 32, 15, 16, 5345, 19, 178, 32]\n"
          ]
        }
      ]
    },
    {
      "cell_type": "code",
      "metadata": {
        "id": "wNmXJOKb7MnR",
        "colab": {
          "base_uri": "https://localhost:8080/",
          "height": 0
        },
        "outputId": "c4021c95-9ce3-4f09-b516-1091c0ecf12d"
      },
      "source": [
        "# Decoding the first review\n",
        "index = imdb.get_word_index()\n",
        "reverse_index = dict([(value, key) for (key, value) in index.items()]) \n",
        "first_review = \" \".join( [reverse_index.get(i - 3, \"?\") for i in x[0]] )\n",
        "print(first_review) \n",
        "print(\"This review is classified as:\", (y[0]))"
      ],
      "execution_count": 21,
      "outputs": [
        {
          "output_type": "stream",
          "name": "stdout",
          "text": [
            "? this film was just brilliant casting location scenery story direction everyone's really suited the part they played and you could just imagine being there robert redford's is an amazing actor and now the same being director norman's father came from the same scottish island as myself so i loved the fact there was a real connection with this film the witty remarks throughout the film were great it was just brilliant so much that i bought the film as soon as it was released for retail and would recommend it to everyone to watch and the fly fishing was amazing really cried at the end it was so sad and you know what they say if you cry at a film it must have been good and this definitely was also congratulations to the two little boy's that played the part's of norman and paul they were just brilliant children are often left out of the praising list i think because the stars that play them all grown up are such a big profile for the whole film but these children are amazing and should be praised for what they have done don't you think the whole story was so lovely because it was true and was someone's life after all that was shared with us all\n",
            "This review is classified as: 1\n"
          ]
        }
      ]
    },
    {
      "cell_type": "code",
      "metadata": {
        "id": "V3Hj7Bqgdg5w",
        "colab": {
          "base_uri": "https://localhost:8080/",
          "height": 0
        },
        "outputId": "cbb65d40-378a-40da-cf45-29da3609729c"
      },
      "source": [
        "# Decoding a randow review\n",
        "random_no = randrange(len(x))\n",
        "random_review = \" \".join( [reverse_index.get(i - 3, \"?\") for i in x[random_no]] )\n",
        "print(random_review)\n",
        "print(\"This review is classified as:\", (y[random_no]))"
      ],
      "execution_count": 22,
      "outputs": [
        {
          "output_type": "stream",
          "name": "stdout",
          "text": [
            "? after 30 seconds you already realize that there was no real budget for this cheap knock off the story is taken from great movies like texas chainsaw massacre and hills have eyes i like those kind of movies even if they're duplicated well wrong turn timber falls carver br br but side sho is hard to watch the actors are really bad the dialogue is cheesy and the music is stupid and totally misplaced you do not care at all what happens to the characters the so called bad guys are also not interesting at all and rather stereotypical so how about the blood and gore well there is some although it is rather cheap and the action is executed very poorly 2 points just for the gore and blood but do understand that this is hardly worth a look even for the gore hounds\n",
            "This review is classified as: 0\n"
          ]
        }
      ]
    },
    {
      "cell_type": "markdown",
      "metadata": {
        "id": "va77FHhr7oob"
      },
      "source": [
        "# Preparing the data\n",
        "In order to feed the data into a neural network it is necessary to preprocess it. This is done through word embedding in which words are encoded as vectors in a high dimensional space. Keras' Embedding Layer is used for this and it is inputed to all the models as the first layer. "
      ]
    },
    {
      "cell_type": "code",
      "metadata": {
        "colab": {
          "base_uri": "https://localhost:8080/",
          "height": 0
        },
        "id": "3YDbc5P0tFZq",
        "outputId": "2a5d200d-d200-47d8-d781-721fe8f59ea3"
      },
      "source": [
        "# All reviews need to have the same length\n",
        "review_length = 500\n",
        "\n",
        "# Transforming to usable arrays\n",
        "x_train = sequence.pad_sequences(x_train, maxlen=review_length)\n",
        "x_test = sequence.pad_sequences(x_test, maxlen=review_length)\n",
        "\n",
        "print(\"Shape of training data:\", x_train.shape)\n",
        "print(\"Shape of test data:\", x_test.shape)"
      ],
      "execution_count": 23,
      "outputs": [
        {
          "output_type": "stream",
          "name": "stdout",
          "text": [
            "Shape of training data: (25000, 500)\n",
            "Shape of test data: (25000, 500)\n"
          ]
        }
      ]
    },
    {
      "cell_type": "code",
      "metadata": {
        "colab": {
          "base_uri": "https://localhost:8080/",
          "height": 0
        },
        "id": "OlDiiD_QysDL",
        "outputId": "34f272af-9840-49e8-de49-19a596089ad7"
      },
      "source": [
        "# Create embedded layer for use in models\n",
        "embedded_layer = Embedding(input_dim=vocabulary, \n",
        "                           output_dim=32, \n",
        "                           input_length=review_length)\n",
        "\n",
        "print(\"Embedded layer is created\")"
      ],
      "execution_count": 24,
      "outputs": [
        {
          "output_type": "stream",
          "name": "stdout",
          "text": [
            "Embedded layer is created\n"
          ]
        }
      ]
    },
    {
      "cell_type": "markdown",
      "metadata": {
        "id": "5U-H4wDzSE9q"
      },
      "source": [
        "# Multi-Layered Perceptron (MLP)\n",
        "\n",
        "**Constructing the model**\n",
        "\n",
        "The first model is a multi-layered perceptron with one hidden layer of 250 hidden units. Stochastic gradient descent is used as the optimizer with binary crossentropy as the loss function."
      ]
    },
    {
      "cell_type": "code",
      "metadata": {
        "colab": {
          "base_uri": "https://localhost:8080/",
          "height": 0
        },
        "id": "ibYwset9-2pL",
        "outputId": "a94fd174-f698-4833-d6b2-94d9283f318a"
      },
      "source": [
        "# Builds a sequential model by adding one layer at a time\n",
        "model1 = Sequential()\n",
        "model1.add(embedded_layer)\n",
        "model1.add(Flatten())\n",
        "model1.add(Dense(units=250,\n",
        "                 use_bias = True,\n",
        "                 activation=\"relu\"))\n",
        "model1.add(Dropout(0.5)) \n",
        "model1.add(Dense(1,  \n",
        "                 activation=\"sigmoid\"))\n",
        "model1.compile(loss='binary_crossentropy', \n",
        "               optimizer='sgd', \n",
        "               metrics=['accuracy']) \n",
        "model1.summary()"
      ],
      "execution_count": 25,
      "outputs": [
        {
          "output_type": "stream",
          "name": "stdout",
          "text": [
            "Model: \"sequential\"\n",
            "_________________________________________________________________\n",
            " Layer (type)                Output Shape              Param #   \n",
            "=================================================================\n",
            " embedding (Embedding)       (None, 500, 32)           2834688   \n",
            "                                                                 \n",
            " flatten (Flatten)           (None, 16000)             0         \n",
            "                                                                 \n",
            " dense (Dense)               (None, 250)               4000250   \n",
            "                                                                 \n",
            " dropout (Dropout)           (None, 250)               0         \n",
            "                                                                 \n",
            " dense_1 (Dense)             (None, 1)                 251       \n",
            "                                                                 \n",
            "=================================================================\n",
            "Total params: 6,835,189\n",
            "Trainable params: 6,835,189\n",
            "Non-trainable params: 0\n",
            "_________________________________________________________________\n"
          ]
        }
      ]
    },
    {
      "cell_type": "markdown",
      "metadata": {
        "id": "topT1pQqOUL9"
      },
      "source": [
        "**Training the model**\n"
      ]
    },
    {
      "cell_type": "code",
      "metadata": {
        "colab": {
          "base_uri": "https://localhost:8080/",
          "height": 0
        },
        "id": "p_gg8460vbKy",
        "outputId": "2c3fed07-93b6-4b68-eb56-d2ecd8f13194"
      },
      "source": [
        "# To prevent overfitting\n",
        "es = EarlyStopping(monitor='val_accuracy', \n",
        "                   patience=3)\n",
        "\n",
        "# To save the best model observed during training\n",
        "mc = ModelCheckpoint('best_model.h5', monitor='val_loss', mode='min', save_best_only=True)\n",
        "\n",
        "# To tune the learning rate\n",
        "rlronp = ReduceLROnPlateau(monitor='val_loss',\n",
        "                          factor=0.1, \n",
        "                          patience=3)\n",
        "\n",
        "# Final model\n",
        "history1 = model1.fit(x_train, \n",
        "                      y_train, \n",
        "                      validation_split=0.1, \n",
        "                      batch_size=64,\n",
        "                      epochs=20, \n",
        "                      callbacks=[es, rlronp, mc])\n"
      ],
      "execution_count": 29,
      "outputs": [
        {
          "output_type": "stream",
          "name": "stdout",
          "text": [
            "Epoch 1/20\n",
            "352/352 [==============================] - 20s 56ms/step - loss: 0.6904 - accuracy: 0.5344 - val_loss: 0.6912 - val_accuracy: 0.5228 - lr: 0.0100\n",
            "Epoch 2/20\n",
            "352/352 [==============================] - 20s 56ms/step - loss: 0.6895 - accuracy: 0.5406 - val_loss: 0.6913 - val_accuracy: 0.5232 - lr: 0.0100\n",
            "Epoch 3/20\n",
            "352/352 [==============================] - 20s 56ms/step - loss: 0.6893 - accuracy: 0.5396 - val_loss: 0.6910 - val_accuracy: 0.5276 - lr: 0.0100\n",
            "Epoch 4/20\n",
            "352/352 [==============================] - 20s 56ms/step - loss: 0.6883 - accuracy: 0.5500 - val_loss: 0.6911 - val_accuracy: 0.5332 - lr: 0.0100\n",
            "Epoch 5/20\n",
            "352/352 [==============================] - 20s 56ms/step - loss: 0.6879 - accuracy: 0.5497 - val_loss: 0.6903 - val_accuracy: 0.5336 - lr: 0.0100\n",
            "Epoch 6/20\n",
            "352/352 [==============================] - 20s 56ms/step - loss: 0.6870 - accuracy: 0.5539 - val_loss: 0.6895 - val_accuracy: 0.5484 - lr: 0.0100\n",
            "Epoch 7/20\n",
            "352/352 [==============================] - 20s 56ms/step - loss: 0.6860 - accuracy: 0.5639 - val_loss: 0.6888 - val_accuracy: 0.5508 - lr: 0.0100\n",
            "Epoch 8/20\n",
            "352/352 [==============================] - 20s 57ms/step - loss: 0.6850 - accuracy: 0.5661 - val_loss: 0.6875 - val_accuracy: 0.5316 - lr: 0.0100\n",
            "Epoch 9/20\n",
            "352/352 [==============================] - 20s 56ms/step - loss: 0.6832 - accuracy: 0.5722 - val_loss: 0.6861 - val_accuracy: 0.5584 - lr: 0.0100\n",
            "Epoch 10/20\n",
            "352/352 [==============================] - 20s 56ms/step - loss: 0.6810 - accuracy: 0.5835 - val_loss: 0.6849 - val_accuracy: 0.5836 - lr: 0.0100\n",
            "Epoch 11/20\n",
            "352/352 [==============================] - 20s 57ms/step - loss: 0.6789 - accuracy: 0.5876 - val_loss: 0.6829 - val_accuracy: 0.6024 - lr: 0.0100\n",
            "Epoch 12/20\n",
            "352/352 [==============================] - 20s 56ms/step - loss: 0.6759 - accuracy: 0.6041 - val_loss: 0.6794 - val_accuracy: 0.6044 - lr: 0.0100\n",
            "Epoch 13/20\n",
            "352/352 [==============================] - 20s 56ms/step - loss: 0.6719 - accuracy: 0.6104 - val_loss: 0.6774 - val_accuracy: 0.5988 - lr: 0.0100\n",
            "Epoch 14/20\n",
            "352/352 [==============================] - 20s 56ms/step - loss: 0.6672 - accuracy: 0.6267 - val_loss: 0.6700 - val_accuracy: 0.6136 - lr: 0.0100\n",
            "Epoch 15/20\n",
            "352/352 [==============================] - 20s 56ms/step - loss: 0.6604 - accuracy: 0.6399 - val_loss: 0.6642 - val_accuracy: 0.6336 - lr: 0.0100\n",
            "Epoch 16/20\n",
            "352/352 [==============================] - 20s 56ms/step - loss: 0.6523 - accuracy: 0.6524 - val_loss: 0.6571 - val_accuracy: 0.6332 - lr: 0.0100\n",
            "Epoch 17/20\n",
            "352/352 [==============================] - 20s 56ms/step - loss: 0.6431 - accuracy: 0.6626 - val_loss: 0.6450 - val_accuracy: 0.6580 - lr: 0.0100\n",
            "Epoch 18/20\n",
            "352/352 [==============================] - 20s 56ms/step - loss: 0.6320 - accuracy: 0.6762 - val_loss: 0.6331 - val_accuracy: 0.6700 - lr: 0.0100\n",
            "Epoch 19/20\n",
            "352/352 [==============================] - 20s 56ms/step - loss: 0.6193 - accuracy: 0.6866 - val_loss: 0.6203 - val_accuracy: 0.6852 - lr: 0.0100\n",
            "Epoch 20/20\n",
            "352/352 [==============================] - 20s 56ms/step - loss: 0.6046 - accuracy: 0.7009 - val_loss: 0.6108 - val_accuracy: 0.6796 - lr: 0.0100\n"
          ]
        }
      ]
    },
    {
      "cell_type": "markdown",
      "metadata": {
        "id": "Z9dUQ2754Tbm"
      },
      "source": [
        "**Plotting the results**\n",
        "\n",
        "Representations of the training and validation accuracy and loss."
      ]
    },
    {
      "cell_type": "code",
      "metadata": {
        "id": "4yVPqyZuuXmj"
      },
      "source": [
        "# Function for plotting the model accuracy\n",
        "def plot_accuracy(history):\n",
        "  print(history.history.keys())\n",
        "  training_acc = history.history['accuracy']\n",
        "  val_acc = history.history['val_accuracy']\n",
        "  epochs = range(1, len(training_acc) + 1)\n",
        "  plt.plot(epochs, training_acc, 'r', label='Training accuracy')\n",
        "  plt.plot(epochs, val_acc, 'b', label='Validation accuracy')\n",
        "  plt.title('Training & Validation accuracy')\n",
        "  plt.xlabel('Epochs')\n",
        "  plt.ylabel('Accuracy')\n",
        "  plt.legend()\n",
        "\n",
        "  plt.show()"
      ],
      "execution_count": 30,
      "outputs": []
    },
    {
      "cell_type": "code",
      "metadata": {
        "colab": {
          "base_uri": "https://localhost:8080/",
          "height": 313
        },
        "id": "wZiZpR6LRBoY",
        "outputId": "9971e57d-1c52-4f14-f09e-f3bfec393506"
      },
      "source": [
        "plot_accuracy(history1)"
      ],
      "execution_count": 31,
      "outputs": [
        {
          "output_type": "stream",
          "name": "stdout",
          "text": [
            "dict_keys(['loss', 'accuracy', 'val_loss', 'val_accuracy', 'lr'])\n"
          ]
        },
        {
          "output_type": "display_data",
          "data": {
            "image/png": "[encoded data removed]",
            "text/plain": [
              "<Figure size 432x288 with 1 Axes>"
            ]
          },
          "metadata": {
            "needs_background": "light"
          }
        }
      ]
    },
    {
      "cell_type": "code",
      "metadata": {
        "id": "vnyj2W5o3p9i"
      },
      "source": [
        "# Plotting the model loss\n",
        "def plot_loss(history):\n",
        "  training_loss = history.history['loss']\n",
        "  val_loss = history.history['val_loss']\n",
        "  epochs = range(1, len(training_loss) + 1)\n",
        "  plt.plot(epochs, training_loss, 'r', label='Training loss')\n",
        "  plt.plot(epochs, val_loss, 'b', label='Validation loss')\n",
        "  plt.title('Training & Validation loss')\n",
        "  plt.xlabel('Epochs')\n",
        "  plt.ylabel('Loss')\n",
        "  plt.legend()\n",
        "\n",
        "  plt.show()"
      ],
      "execution_count": 32,
      "outputs": []
    },
    {
      "cell_type": "code",
      "metadata": {
        "colab": {
          "base_uri": "https://localhost:8080/",
          "height": 295
        },
        "id": "cfs-0prnRG8X",
        "outputId": "cac90947-f060-465c-daf9-8adfbf287b86"
      },
      "source": [
        "plot_loss(history1)"
      ],
      "execution_count": 33,
      "outputs": [
        {
          "output_type": "display_data",
          "data": {
            "image/png": "[encoded data removed]",
            "text/plain": [
              "<Figure size 432x288 with 1 Axes>"
            ]
          },
          "metadata": {
            "needs_background": "light"
          }
        }
      ]
    },
    {
      "cell_type": "markdown",
      "metadata": {
        "id": "y97uLcGm4gqm"
      },
      "source": [
        "**Testing the model**\n",
        "\n",
        "Testing the constructed MLP on the test data."
      ]
    },
    {
      "cell_type": "code",
      "metadata": {
        "colab": {
          "base_uri": "https://localhost:8080/",
          "height": 0
        },
        "id": "F-LqNVNquOYp",
        "outputId": "ddbb4514-b441-4bc6-9df9-d415800a0f8e"
      },
      "source": [
        "# Testing the model\n",
        "scores = model1.evaluate(x_test, y_test)\n",
        "print(\"Accuracy: %.2f%%\" % (scores[1]*100))"
      ],
      "execution_count": 34,
      "outputs": [
        {
          "output_type": "stream",
          "name": "stdout",
          "text": [
            "782/782 [==============================] - 8s 10ms/step - loss: 0.6144 - accuracy: 0.6753\n",
            "Accuracy: 67.53%\n"
          ]
        }
      ]
    },
    {
      "cell_type": "markdown",
      "metadata": {
        "id": "wemZwBhRb4Yz"
      },
      "source": [
        "**Results of MLP #1**\n",
        "\n",
        "This model gives only a 67.53% accuracy and is therefore not particularly good at predicting the sentiment. The validation loss and validation accuracy follows the loss and accuracy of the trained model, which is a good sign and shows that the model is not overfitting. However, early stopping is not applied and the model continues to improve as the number of epochs increases. A larger number of epochs could therefore result in a better model."
      ]
    },
    {
      "cell_type": "markdown",
      "metadata": {
        "id": "Gl5g7HzQ1mRW"
      },
      "source": [
        "**MLP #2: using Adam**\n",
        "\n",
        "Since the previous MLP only gave a 67% accuracy, we will now try to change the optimizer to Adam instead of stochastic gradient descent in hope of increasing the accuracy. Adam is generally known to converge faster whereas SGD generalizes better. When only using 20 epochs adam could therefore give a better performance."
      ]
    },
    {
      "cell_type": "code",
      "metadata": {
        "colab": {
          "base_uri": "https://localhost:8080/",
          "height": 0
        },
        "id": "tO4Dh0sKzdDh",
        "outputId": "a594fff6-8231-4dce-b16a-d4cb4cafbf3f"
      },
      "source": [
        "model5 = Sequential()\n",
        "model5.add(embedded_layer) # Adds embedded layer\n",
        "model5.add(Flatten())\n",
        "model5.add(Dense(units=250,\n",
        "                 use_bias = True,\n",
        "                 activation=\"relu\"))\n",
        "model5.add(Dropout(0.5))\n",
        "model5.add(Dense(1,  \n",
        "                 activation=\"sigmoid\"))\n",
        "model5.compile(loss='binary_crossentropy', \n",
        "               optimizer='adam', \n",
        "               metrics=['accuracy'])\n",
        "model5.summary()"
      ],
      "execution_count": 35,
      "outputs": [
        {
          "output_type": "stream",
          "name": "stdout",
          "text": [
            "Model: \"sequential_1\"\n",
            "_________________________________________________________________\n",
            " Layer (type)                Output Shape              Param #   \n",
            "=================================================================\n",
            " embedding (Embedding)       (None, 500, 32)           2834688   \n",
            "                                                                 \n",
            " flatten_1 (Flatten)         (None, 16000)             0         \n",
            "                                                                 \n",
            " dense_2 (Dense)             (None, 250)               4000250   \n",
            "                                                                 \n",
            " dropout_1 (Dropout)         (None, 250)               0         \n",
            "                                                                 \n",
            " dense_3 (Dense)             (None, 1)                 251       \n",
            "                                                                 \n",
            "=================================================================\n",
            "Total params: 6,835,189\n",
            "Trainable params: 6,835,189\n",
            "Non-trainable params: 0\n",
            "_________________________________________________________________\n"
          ]
        }
      ]
    },
    {
      "cell_type": "code",
      "metadata": {
        "colab": {
          "base_uri": "https://localhost:8080/",
          "height": 0
        },
        "id": "yubIN__Q1GsE",
        "outputId": "f5bbb8a2-1491-4aa4-dc57-2d4fa632a4f4"
      },
      "source": [
        "# To prevent overfitting\n",
        "es = EarlyStopping(monitor='val_accuracy', \n",
        "                   patience=3)\n",
        "\n",
        "# To tune the learning rate\n",
        "rlronp = ReduceLROnPlateau(monitor='val_loss',\n",
        "                          factor=0.1, \n",
        "                          patience=3)\n",
        "\n",
        "# To save the best model observed during training\n",
        "mc = ModelCheckpoint('best_model.h5', monitor='val_loss', mode='min', save_best_only=True)\n",
        "\n",
        "\n",
        "# Final model\n",
        "history5 = model5.fit(x_train, \n",
        "                      y_train, \n",
        "                      validation_split=0.1, \n",
        "                      batch_size=64,\n",
        "                      epochs=20, \n",
        "                      callbacks=[es, rlronp, mc])"
      ],
      "execution_count": 36,
      "outputs": [
        {
          "output_type": "stream",
          "name": "stdout",
          "text": [
            "Epoch 1/20\n",
            "352/352 [==============================] - 32s 88ms/step - loss: 0.4045 - accuracy: 0.8072 - val_loss: 0.2880 - val_accuracy: 0.8800 - lr: 0.0010\n",
            "Epoch 2/20\n",
            "352/352 [==============================] - 31s 87ms/step - loss: 0.1074 - accuracy: 0.9632 - val_loss: 0.3179 - val_accuracy: 0.8736 - lr: 0.0010\n",
            "Epoch 3/20\n",
            "352/352 [==============================] - 31s 87ms/step - loss: 0.0143 - accuracy: 0.9963 - val_loss: 0.4340 - val_accuracy: 0.8764 - lr: 0.0010\n",
            "Epoch 4/20\n",
            "352/352 [==============================] - 31s 87ms/step - loss: 0.0022 - accuracy: 0.9998 - val_loss: 0.4960 - val_accuracy: 0.8728 - lr: 0.0010\n"
          ]
        }
      ]
    },
    {
      "cell_type": "code",
      "metadata": {
        "colab": {
          "base_uri": "https://localhost:8080/",
          "height": 313
        },
        "id": "GNW34sjK2NI-",
        "outputId": "3a1f3833-6f6b-42a6-a8fb-467dc1977ae9"
      },
      "source": [
        "plot_accuracy(history5) "
      ],
      "execution_count": 37,
      "outputs": [
        {
          "output_type": "stream",
          "name": "stdout",
          "text": [
            "dict_keys(['loss', 'accuracy', 'val_loss', 'val_accuracy', 'lr'])\n"
          ]
        },
        {
          "output_type": "display_data",
          "data": {
            "image/png": "[encoded data removed]",
            "text/plain": [
              "<Figure size 432x288 with 1 Axes>"
            ]
          },
          "metadata": {
            "needs_background": "light"
          }
        }
      ]
    },
    {
      "cell_type": "code",
      "metadata": {
        "colab": {
          "base_uri": "https://localhost:8080/",
          "height": 295
        },
        "id": "7ms2b-Mo2SNU",
        "outputId": "e6709d01-84c6-4af5-b32c-ca2731d4810c"
      },
      "source": [
        "plot_loss(history5)"
      ],
      "execution_count": 38,
      "outputs": [
        {
          "output_type": "display_data",
          "data": {
            "image/png": "[encoded data removed]",
            "text/plain": [
              "<Figure size 432x288 with 1 Axes>"
            ]
          },
          "metadata": {
            "needs_background": "light"
          }
        }
      ]
    },
    {
      "cell_type": "code",
      "metadata": {
        "colab": {
          "base_uri": "https://localhost:8080/",
          "height": 0
        },
        "id": "E640SJOurwUy",
        "outputId": "77f70420-0ea5-41fd-f309-dd591e8b28a6"
      },
      "source": [
        "scores = model5.evaluate(x_test, y_test)\n",
        "print(\"Accuracy: %.2f%%\" % (scores[1]*100))"
      ],
      "execution_count": 39,
      "outputs": [
        {
          "output_type": "stream",
          "name": "stdout",
          "text": [
            "782/782 [==============================] - 8s 10ms/step - loss: 0.4936 - accuracy: 0.8686\n",
            "Accuracy: 86.86%\n"
          ]
        }
      ]
    },
    {
      "cell_type": "markdown",
      "metadata": {
        "id": "8q1Ggnbg2V2P"
      },
      "source": [
        "**Results of MLP #2**\n",
        "\n",
        "This model converges very fast and stops only after 4 epochs. The accuracy and loss graphs also show that model overfits the data since the validation loss increases when the training loss decreases. Still, this model gives a much better accuracy than the MLP #1 and is therefore better at predicting sentiment."
      ]
    },
    {
      "cell_type": "markdown",
      "metadata": {
        "id": "eSxN_lus_h0A"
      },
      "source": [
        "# Convolutional Neural Network (CNN)\n",
        "\n",
        "**Constructing the model**\n",
        "\n",
        "This CNN contains a 1-dimensional convolutional layers, a max-pooling layer and then the fully connected layer."
      ]
    },
    {
      "cell_type": "code",
      "metadata": {
        "colab": {
          "base_uri": "https://localhost:8080/",
          "height": 0
        },
        "id": "FTFWXFw_8AUm",
        "outputId": "66cd1cbe-8ffe-479e-e182-dad27080482b"
      },
      "source": [
        "# Builds a sequential CNN-model by adding one layer at a time\n",
        "model2 = Sequential()\n",
        "model2.add(embedded_layer)\n",
        "model2.add(Conv1D(filters = 128, \n",
        "                  kernel_size = 3, \n",
        "                  strides = 1,\n",
        "                  padding = 'valid',\n",
        "                  use_bias = True,\n",
        "                  activation = 'relu')) # Relu is common in CNN\n",
        "model2.add(MaxPooling1D())\n",
        "model2.add(Flatten()) \n",
        "model2.add(Dense(units=250, \n",
        "                 activation='relu',\n",
        "                 use_bias = True)) \n",
        "model2.add(Dropout(0.5))\n",
        "model2.add(Dense(units=1, \n",
        "                 activation='sigmoid'))\n",
        "model2.compile(loss='binary_crossentropy', \n",
        "               optimizer='sgd', \n",
        "               metrics=['accuracy'])\n",
        "model2.summary()"
      ],
      "execution_count": 40,
      "outputs": [
        {
          "output_type": "stream",
          "name": "stdout",
          "text": [
            "Model: \"sequential_2\"\n",
            "_________________________________________________________________\n",
            " Layer (type)                Output Shape              Param #   \n",
            "=================================================================\n",
            " embedding (Embedding)       (None, 500, 32)           2834688   \n",
            "                                                                 \n",
            " conv1d (Conv1D)             (None, 498, 128)          12416     \n",
            "                                                                 \n",
            " max_pooling1d (MaxPooling1D  (None, 249, 128)         0         \n",
            " )                                                               \n",
            "                                                                 \n",
            " flatten_2 (Flatten)         (None, 31872)             0         \n",
            "                                                                 \n",
            " dense_4 (Dense)             (None, 250)               7968250   \n",
            "                                                                 \n",
            " dropout_2 (Dropout)         (None, 250)               0         \n",
            "                                                                 \n",
            " dense_5 (Dense)             (None, 1)                 251       \n",
            "                                                                 \n",
            "=================================================================\n",
            "Total params: 10,815,605\n",
            "Trainable params: 10,815,605\n",
            "Non-trainable params: 0\n",
            "_________________________________________________________________\n"
          ]
        }
      ]
    },
    {
      "cell_type": "code",
      "metadata": {
        "colab": {
          "base_uri": "https://localhost:8080/",
          "height": 0
        },
        "id": "UnuxnvDM-1kQ",
        "outputId": "181f68f3-4abd-489d-80f9-6f281490f59c"
      },
      "source": [
        "# Early stopping to prevent overfitting\n",
        "es = EarlyStopping(monitor='val_accuracy', patience=3)\n",
        "\n",
        "# To tune the learning rate\n",
        "rlronp = ReduceLROnPlateau(monitor='val_loss',\n",
        "                          factor=0.1, \n",
        "                          patience=3)\n",
        "\n",
        "# To save the best model observed during training\n",
        "mc = ModelCheckpoint('best_model.h5', monitor='val_loss', mode='min', save_best_only=True)\n",
        "\n",
        "# Final model\n",
        "history2 = model2.fit(x_train, \n",
        "                      y_train, \n",
        "                      validation_split=0.1, \n",
        "                      batch_size=64,\n",
        "                      epochs=20, \n",
        "                      callbacks=[es, rlronp, mc])"
      ],
      "execution_count": 41,
      "outputs": [
        {
          "output_type": "stream",
          "name": "stdout",
          "text": [
            "Epoch 1/20\n",
            "352/352 [==============================] - 67s 189ms/step - loss: 0.6658 - accuracy: 0.7440 - val_loss: 0.6322 - val_accuracy: 0.8344 - lr: 0.0100\n",
            "Epoch 2/20\n",
            "352/352 [==============================] - 66s 188ms/step - loss: 0.5301 - accuracy: 0.8881 - val_loss: 0.4528 - val_accuracy: 0.8696 - lr: 0.0100\n",
            "Epoch 3/20\n",
            "352/352 [==============================] - 66s 187ms/step - loss: 0.3274 - accuracy: 0.9119 - val_loss: 0.3243 - val_accuracy: 0.8732 - lr: 0.0100\n",
            "Epoch 4/20\n",
            "352/352 [==============================] - 65s 185ms/step - loss: 0.2213 - accuracy: 0.9285 - val_loss: 0.2959 - val_accuracy: 0.8712 - lr: 0.0100\n",
            "Epoch 5/20\n",
            "352/352 [==============================] - 66s 187ms/step - loss: 0.1642 - accuracy: 0.9472 - val_loss: 0.3259 - val_accuracy: 0.8568 - lr: 0.0100\n",
            "Epoch 6/20\n",
            "352/352 [==============================] - 66s 188ms/step - loss: 0.1392 - accuracy: 0.9536 - val_loss: 0.3164 - val_accuracy: 0.8680 - lr: 0.0100\n"
          ]
        }
      ]
    },
    {
      "cell_type": "markdown",
      "metadata": {
        "id": "3BfFnJ_B6zZo"
      },
      "source": [
        "**Plotting the result**"
      ]
    },
    {
      "cell_type": "code",
      "metadata": {
        "colab": {
          "base_uri": "https://localhost:8080/",
          "height": 313
        },
        "id": "RqWPjrkoBbWj",
        "outputId": "4c3e1a0a-04a3-43e5-ee1d-8204880b4a6f"
      },
      "source": [
        "plot_accuracy(history2)"
      ],
      "execution_count": 42,
      "outputs": [
        {
          "output_type": "stream",
          "name": "stdout",
          "text": [
            "dict_keys(['loss', 'accuracy', 'val_loss', 'val_accuracy', 'lr'])\n"
          ]
        },
        {
          "output_type": "display_data",
          "data": {
            "image/png": "[encoded data removed]",
            "text/plain": [
              "<Figure size 432x288 with 1 Axes>"
            ]
          },
          "metadata": {
            "needs_background": "light"
          }
        }
      ]
    },
    {
      "cell_type": "code",
      "metadata": {
        "colab": {
          "base_uri": "https://localhost:8080/",
          "height": 295
        },
        "id": "EcL9udXBWi9_",
        "outputId": "b8c974fc-c3d7-45f5-d99b-20607df57fc7"
      },
      "source": [
        "plot_loss(history2)"
      ],
      "execution_count": 43,
      "outputs": [
        {
          "output_type": "display_data",
          "data": {
            "image/png": "[encoded data removed]",
            "text/plain": [
              "<Figure size 432x288 with 1 Axes>"
            ]
          },
          "metadata": {
            "needs_background": "light"
          }
        }
      ]
    },
    {
      "cell_type": "markdown",
      "metadata": {
        "id": "9CBFlG5V7FqF"
      },
      "source": [
        "**Testing the model**"
      ]
    },
    {
      "cell_type": "code",
      "metadata": {
        "colab": {
          "base_uri": "https://localhost:8080/",
          "height": 0
        },
        "id": "wxbddpe7BdVf",
        "outputId": "d7ecb738-1189-426f-a9ac-ea2140d352f7"
      },
      "source": [
        "# Testing the model\n",
        "scores = model2.evaluate(x_test, y_test)\n",
        "print(\"Accuracy: %.2f%%\" % (scores[1]*100))"
      ],
      "execution_count": 44,
      "outputs": [
        {
          "output_type": "stream",
          "name": "stdout",
          "text": [
            "782/782 [==============================] - 22s 28ms/step - loss: 0.3448 - accuracy: 0.8511\n",
            "Accuracy: 85.11%\n"
          ]
        }
      ]
    },
    {
      "cell_type": "markdown",
      "metadata": {
        "id": "pf1erkGwm-mX"
      },
      "source": [
        "**Results of CNN #1**\n",
        "\n",
        "The validation accuracy and validation loss follows the same shape as the accuracy and validation, and as with the MLP #1 it means it is not overfitting the data. With an accuracy of 85% after only 6 epochs it is a fairly good model. "
      ]
    },
    {
      "cell_type": "markdown",
      "metadata": {
        "id": "gQrl5caomhyl"
      },
      "source": [
        "**CNN #2: using Adam**\n",
        "\n",
        "The optimizer is now changed to Adam to see if the difference is as evident as it was with the MLP."
      ]
    },
    {
      "cell_type": "code",
      "metadata": {
        "colab": {
          "base_uri": "https://localhost:8080/",
          "height": 0
        },
        "id": "sv8llyjolR9z",
        "outputId": "b3fc38af-3ea1-427a-db1b-3b8e222fdede"
      },
      "source": [
        "model4 = Sequential()\n",
        "model4.add(embedded_layer)\n",
        "model4.add(Conv1D(filters = 128, # Convolutial layer\n",
        "                  kernel_size = 3, \n",
        "                  strides = 1,\n",
        "                  use_bias = True,\n",
        "                  padding = 'valid', \n",
        "                  activation = 'relu')) # Relu is common in CNN\n",
        "model4.add(MaxPooling1D())\n",
        "model4.add(Flatten()) # This must be done to get the correct shape of the output\n",
        "model4.add(Dense(units=250, # Hidden layer of 250 units\n",
        "                 activation='relu')) \n",
        "model4.add(Dropout(0.5))\n",
        "model4.add(Dense(units=1, # Output layer\n",
        "                 activation='sigmoid'))\n",
        "model4.compile(loss='binary_crossentropy', \n",
        "               optimizer='adam', \n",
        "               metrics=['accuracy'])\n",
        "model4.summary()"
      ],
      "execution_count": 45,
      "outputs": [
        {
          "output_type": "stream",
          "name": "stdout",
          "text": [
            "Model: \"sequential_3\"\n",
            "_________________________________________________________________\n",
            " Layer (type)                Output Shape              Param #   \n",
            "=================================================================\n",
            " embedding (Embedding)       (None, 500, 32)           2834688   \n",
            "                                                                 \n",
            " conv1d_1 (Conv1D)           (None, 498, 128)          12416     \n",
            "                                                                 \n",
            " max_pooling1d_1 (MaxPooling  (None, 249, 128)         0         \n",
            " 1D)                                                             \n",
            "                                                                 \n",
            " flatten_3 (Flatten)         (None, 31872)             0         \n",
            "                                                                 \n",
            " dense_6 (Dense)             (None, 250)               7968250   \n",
            "                                                                 \n",
            " dropout_3 (Dropout)         (None, 250)               0         \n",
            "                                                                 \n",
            " dense_7 (Dense)             (None, 1)                 251       \n",
            "                                                                 \n",
            "=================================================================\n",
            "Total params: 10,815,605\n",
            "Trainable params: 10,815,605\n",
            "Non-trainable params: 0\n",
            "_________________________________________________________________\n"
          ]
        }
      ]
    },
    {
      "cell_type": "code",
      "metadata": {
        "colab": {
          "base_uri": "https://localhost:8080/",
          "height": 0
        },
        "id": "14l2s3-3lbj6",
        "outputId": "73da12ca-c263-4142-e465-618c422865a6"
      },
      "source": [
        "# Early stopping to prevent overfitting\n",
        "es = EarlyStopping(monitor='val_accuracy', patience=3)\n",
        "\n",
        "# To tune the learning rate\n",
        "rlronp = ReduceLROnPlateau(monitor='val_loss',\n",
        "                          factor=0.1, \n",
        "                          patience=3)\n",
        "\n",
        "# To save the best model observed during training\n",
        "mc = ModelCheckpoint('best_model.h5', monitor='val_loss', mode='min', save_best_only=True)\n",
        "\n",
        "# Final model\n",
        "history4 = model4.fit(x_train, \n",
        "                      y_train, \n",
        "                      validation_split=0.1, \n",
        "                      batch_size=64,\n",
        "                      epochs=20, \n",
        "                      callbacks=[es, rlronp, mc])"
      ],
      "execution_count": 46,
      "outputs": [
        {
          "output_type": "stream",
          "name": "stdout",
          "text": [
            "Epoch 1/20\n",
            "352/352 [==============================] - 79s 222ms/step - loss: 0.1365 - accuracy: 0.9494 - val_loss: 0.3575 - val_accuracy: 0.8792 - lr: 0.0010\n",
            "Epoch 2/20\n",
            "352/352 [==============================] - 78s 222ms/step - loss: 0.0291 - accuracy: 0.9900 - val_loss: 0.4605 - val_accuracy: 0.8916 - lr: 0.0010\n",
            "Epoch 3/20\n",
            "352/352 [==============================] - 78s 222ms/step - loss: 0.0110 - accuracy: 0.9963 - val_loss: 0.5808 - val_accuracy: 0.8848 - lr: 0.0010\n",
            "Epoch 4/20\n",
            "352/352 [==============================] - 78s 222ms/step - loss: 0.0041 - accuracy: 0.9989 - val_loss: 0.7106 - val_accuracy: 0.8848 - lr: 0.0010\n",
            "Epoch 5/20\n",
            "352/352 [==============================] - 78s 221ms/step - loss: 0.0011 - accuracy: 0.9998 - val_loss: 0.7244 - val_accuracy: 0.8864 - lr: 1.0000e-04\n"
          ]
        }
      ]
    },
    {
      "cell_type": "code",
      "metadata": {
        "colab": {
          "base_uri": "https://localhost:8080/",
          "height": 313
        },
        "id": "PkLsKJalqA3V",
        "outputId": "d18c6159-67f6-429a-839c-24ad790cc24c"
      },
      "source": [
        "plot_accuracy(history4)"
      ],
      "execution_count": 47,
      "outputs": [
        {
          "output_type": "stream",
          "name": "stdout",
          "text": [
            "dict_keys(['loss', 'accuracy', 'val_loss', 'val_accuracy', 'lr'])\n"
          ]
        },
        {
          "output_type": "display_data",
          "data": {
            "image/png": "[encoded data removed]",
            "text/plain": [
              "<Figure size 432x288 with 1 Axes>"
            ]
          },
          "metadata": {
            "needs_background": "light"
          }
        }
      ]
    },
    {
      "cell_type": "code",
      "metadata": {
        "colab": {
          "base_uri": "https://localhost:8080/",
          "height": 295
        },
        "id": "7XbXLfGhqD74",
        "outputId": "2651f811-0d4f-42e1-c76e-f7aa25da8fdc"
      },
      "source": [
        "plot_loss(history4)"
      ],
      "execution_count": 48,
      "outputs": [
        {
          "output_type": "display_data",
          "data": {
            "image/png": "[encoded data removed]",
            "text/plain": [
              "<Figure size 432x288 with 1 Axes>"
            ]
          },
          "metadata": {
            "needs_background": "light"
          }
        }
      ]
    },
    {
      "cell_type": "code",
      "metadata": {
        "colab": {
          "base_uri": "https://localhost:8080/",
          "height": 0
        },
        "id": "p8soT9tVqHsO",
        "outputId": "50d4150f-aa28-4fa8-93e1-02e4eada03ab"
      },
      "source": [
        "scores = model4.evaluate(x_test, y_test)\n",
        "print(\"Accuracy: %.2f%%\" % (scores[1]*100))"
      ],
      "execution_count": 49,
      "outputs": [
        {
          "output_type": "stream",
          "name": "stdout",
          "text": [
            "782/782 [==============================] - 22s 28ms/step - loss: 0.7938 - accuracy: 0.8598\n",
            "Accuracy: 85.98%\n"
          ]
        }
      ]
    },
    {
      "cell_type": "markdown",
      "metadata": {
        "id": "mqevRhZX2puv"
      },
      "source": [
        "**Results of CNN #2**\n",
        "\n",
        "The first graph shows that as the number of epochs increases, the training accuracy increases and the validation accuracy stays constant. The second graph shows that training loss increases and the validation loss decreases as the number of epochs increase. This is a sign of overfitting. However, using Adam as optimizer gives approximately the same results as using stochastic gradient descent."
      ]
    },
    {
      "cell_type": "markdown",
      "metadata": {
        "id": "6EgTnv-t_mjW"
      },
      "source": [
        "# Long Short-Term Memory (LSTM)\n",
        "\n",
        "**Constructing the model**\n",
        "\n",
        "This model is an LSTM, which is an improved version of a normal RNN. "
      ]
    },
    {
      "cell_type": "code",
      "metadata": {
        "colab": {
          "base_uri": "https://localhost:8080/",
          "height": 0
        },
        "id": "aDiW3FV3AIVX",
        "outputId": "3ff4002b-d78f-4cb2-d53a-f91580f434e5"
      },
      "source": [
        "# Constructing the model\n",
        "model3 = Sequential()\n",
        "model3.add(embedded_layer)\n",
        "model3.add(LSTM(units=128, \n",
        "                activation = \"tanh\", \n",
        "                recurrent_activation = \"sigmoid\",\n",
        "                use_bias = True))\n",
        "model3.add(Dense(units = 250,\n",
        "                 use_bias = True,\n",
        "                activation = 'relu'))\n",
        "model3.add(Dropout(0.5))\n",
        "model3.add(Dense(units = 1, \n",
        "                activation = 'sigmoid'))\n",
        "model3.compile(optimizer = 'adam', \n",
        "              loss = 'binary_crossentropy', \n",
        "              metrics = ['acc'])\n",
        "model3.summary()\n"
      ],
      "execution_count": 50,
      "outputs": [
        {
          "output_type": "stream",
          "name": "stdout",
          "text": [
            "Model: \"sequential_4\"\n",
            "_________________________________________________________________\n",
            " Layer (type)                Output Shape              Param #   \n",
            "=================================================================\n",
            " embedding (Embedding)       (None, 500, 32)           2834688   \n",
            "                                                                 \n",
            " lstm (LSTM)                 (None, 128)               82432     \n",
            "                                                                 \n",
            " dense_8 (Dense)             (None, 250)               32250     \n",
            "                                                                 \n",
            " dropout_4 (Dropout)         (None, 250)               0         \n",
            "                                                                 \n",
            " dense_9 (Dense)             (None, 1)                 251       \n",
            "                                                                 \n",
            "=================================================================\n",
            "Total params: 2,949,621\n",
            "Trainable params: 2,949,621\n",
            "Non-trainable params: 0\n",
            "_________________________________________________________________\n"
          ]
        }
      ]
    },
    {
      "cell_type": "code",
      "metadata": {
        "colab": {
          "base_uri": "https://localhost:8080/",
          "height": 0
        },
        "id": "TDHCeIYAAKtc",
        "outputId": "514bb492-dd13-41e5-91cc-3c2af5bc670f"
      },
      "source": [
        "# Early stopping to prevent overfitting\n",
        "es = EarlyStopping(monitor='val_acc', patience=3)\n",
        "\n",
        "# To tune the learning rate\n",
        "rlronp = ReduceLROnPlateau(monitor='val_loss',\n",
        "                          factor=0.1, \n",
        "                          patience=3)\n",
        "\n",
        "# To save the best model observed during training\n",
        "mc = ModelCheckpoint('best_model.h5', monitor='val_loss', mode='min', save_best_only=True)\n",
        "\n",
        "# Final model\n",
        "history3 = model3.fit(x_train, \n",
        "                      y_train, \n",
        "                      batch_size=64,\n",
        "                      validation_split=0.1, \n",
        "                      epochs=20, \n",
        "                      callbacks=[es, rlronp, mc])"
      ],
      "execution_count": 51,
      "outputs": [
        {
          "output_type": "stream",
          "name": "stdout",
          "text": [
            "Epoch 1/20\n",
            "352/352 [==============================] - 359s 1s/step - loss: 0.1820 - acc: 0.9316 - val_loss: 0.4025 - val_acc: 0.8652 - lr: 0.0010\n",
            "Epoch 2/20\n",
            "352/352 [==============================] - 356s 1s/step - loss: 0.0532 - acc: 0.9819 - val_loss: 0.4598 - val_acc: 0.8744 - lr: 0.0010\n",
            "Epoch 3/20\n",
            "352/352 [==============================] - 351s 998ms/step - loss: 0.0233 - acc: 0.9920 - val_loss: 0.9296 - val_acc: 0.8480 - lr: 0.0010\n",
            "Epoch 4/20\n",
            "352/352 [==============================] - 346s 983ms/step - loss: 0.0236 - acc: 0.9920 - val_loss: 0.6751 - val_acc: 0.8772 - lr: 0.0010\n",
            "Epoch 5/20\n",
            "352/352 [==============================] - 343s 975ms/step - loss: 0.0047 - acc: 0.9987 - val_loss: 0.6108 - val_acc: 0.8728 - lr: 1.0000e-04\n",
            "Epoch 6/20\n",
            "352/352 [==============================] - 342s 972ms/step - loss: 0.0028 - acc: 0.9993 - val_loss: 0.6801 - val_acc: 0.8748 - lr: 1.0000e-04\n",
            "Epoch 7/20\n",
            "352/352 [==============================] - 343s 974ms/step - loss: 0.0014 - acc: 0.9998 - val_loss: 0.7269 - val_acc: 0.8724 - lr: 1.0000e-04\n"
          ]
        }
      ]
    },
    {
      "cell_type": "markdown",
      "metadata": {
        "id": "IU0TPr7r7Q_i"
      },
      "source": [
        "**Plotting the result**\n"
      ]
    },
    {
      "cell_type": "code",
      "metadata": {
        "id": "akgzTyXKAYvb",
        "colab": {
          "base_uri": "https://localhost:8080/",
          "height": 313
        },
        "outputId": "06cf4e23-7836-44de-959a-404ef7b2fb3a"
      },
      "source": [
        "# Function for plotting the model accuracy because the dict keys are named differently in the LSTM history\n",
        "def plot_accuracy(history):\n",
        "  print(history.history.keys())\n",
        "  training_acc = history.history['acc']\n",
        "  val_acc = history.history['val_acc']\n",
        "  epochs = range(1, len(training_acc) + 1)\n",
        "  plt.plot(epochs, training_acc, 'r', label='Training accuracy')\n",
        "  plt.plot(epochs, val_acc, 'b', label='Validation accuracy')\n",
        "  plt.title('Training & Validation accuracy')\n",
        "  plt.xlabel('Epochs')\n",
        "  plt.ylabel('Accuracy')\n",
        "  plt.legend()\n",
        "\n",
        "  plt.show()\n",
        "\n",
        "plot_accuracy(history3)"
      ],
      "execution_count": 54,
      "outputs": [
        {
          "output_type": "stream",
          "name": "stdout",
          "text": [
            "dict_keys(['loss', 'acc', 'val_loss', 'val_acc', 'lr'])\n"
          ]
        },
        {
          "output_type": "display_data",
          "data": {
            "image/png": "[encoded data removed]",
            "text/plain": [
              "<Figure size 432x288 with 1 Axes>"
            ]
          },
          "metadata": {
            "needs_background": "light"
          }
        }
      ]
    },
    {
      "cell_type": "code",
      "metadata": {
        "colab": {
          "base_uri": "https://localhost:8080/",
          "height": 295
        },
        "id": "e4QF3uHLi9GC",
        "outputId": "324a4378-abf0-4e5c-a241-18d6d2641382"
      },
      "source": [
        "plot_loss(history3)"
      ],
      "execution_count": 53,
      "outputs": [
        {
          "output_type": "display_data",
          "data": {
            "image/png": "[encoded data removed]",
            "text/plain": [
              "<Figure size 432x288 with 1 Axes>"
            ]
          },
          "metadata": {
            "needs_background": "light"
          }
        }
      ]
    },
    {
      "cell_type": "markdown",
      "metadata": {
        "id": "4hBqcTJE7ZJo"
      },
      "source": [
        "**Testing the model**"
      ]
    },
    {
      "cell_type": "code",
      "metadata": {
        "id": "MLQ3qC6iAhpq",
        "colab": {
          "base_uri": "https://localhost:8080/",
          "height": 0
        },
        "outputId": "0a859c34-611f-415e-ecda-18870b727ac3"
      },
      "source": [
        "# Testing the model on the test set\n",
        "scores = model3.evaluate(x_test, y_test)\n",
        "print(\"Accuracy: %.2f%%\" % (scores[1]*100))"
      ],
      "execution_count": 55,
      "outputs": [
        {
          "output_type": "stream",
          "name": "stdout",
          "text": [
            "782/782 [==============================] - 110s 141ms/step - loss: 0.8688 - acc: 0.8440\n",
            "Accuracy: 84.40%\n"
          ]
        }
      ]
    },
    {
      "cell_type": "code",
      "source": [
        "print(\"Best Validation Accuracy =\", max(history3.history['val_acc'])*100)\n",
        "print(\"Best Training Accuracy   =\", max(history3.history['acc'])*100)"
      ],
      "metadata": {
        "colab": {
          "base_uri": "https://localhost:8080/",
          "height": 0
        },
        "id": "NLosgqEXLKGJ",
        "outputId": "1090d1d9-7e84-49a2-de24-37754ac494bb"
      },
      "execution_count": 56,
      "outputs": [
        {
          "output_type": "stream",
          "name": "stdout",
          "text": [
            "Best Validation Accuracy = 87.72000074386597\n",
            "Best Training Accuracy   = 99.97777938842773\n"
          ]
        }
      ]
    },
    {
      "cell_type": "markdown",
      "source": [
        "**Results of LSTM**\n",
        "\n",
        "The LSTM gives a very high training accuracy, while the testing accuracy is almost the same as the CNN. Early stopping is also applied here after 7 epochs since the validation accuracy is not improving. "
      ],
      "metadata": {
        "id": "Bw7LuphEO-DG"
      }
    },
    {
      "cell_type": "markdown",
      "metadata": {
        "id": "H25ZPjdJA6kt"
      },
      "source": [
        "# Using the models: tweets"
      ]
    },
    {
      "cell_type": "code",
      "metadata": {
        "id": "ngGN9nnIacj8"
      },
      "source": [
        "# Function to predict the sentiment of an input string \n",
        "def predict_sentiment(sentence, model):\n",
        "  word_to_index = imdb.get_word_index()\n",
        "  split_sentence = [word.lower() for word in sentence.split()]\n",
        "  text_indices = [word_to_index[word]+3 for word in split_sentence if word in word_to_index.keys()]\n",
        "  model_input = [text_indices]\n",
        "  model_input = sequence.pad_sequences(model_input, maxlen=500)\n",
        "  prediction = model.predict(model_input)\n",
        "  print(prediction)\n",
        "  if (prediction>0.5):\n",
        "      print(\"Prediction: Positive\")\n",
        "  else:\n",
        "      print(\"Prediction: Negative\")"
      ],
      "execution_count": 58,
      "outputs": []
    },
    {
      "cell_type": "markdown",
      "source": [
        "By testing the models on clearly negative and positive tweets, we can see how they work in practice. Here the models are tested on two clearly angry tweets by Donald Trump and two happy tweets by Lin Manuel Miranda."
      ],
      "metadata": {
        "id": "uOtevbODH4VB"
      }
    },
    {
      "cell_type": "code",
      "source": [
        "# Donald J. Trump (@realDonaldTrump) March 22, 2018\n",
        "tweet1 = \"Crazy Joe Biden is trying to act like a tough guy. Actually, he is weak, both mentally and physically, and yet he threatens me, for the second time, with physical assault. He doesn’t know me, but he would go down fast and hard, crying all the way. Don’t threaten people Joe!\"\n",
        "# Donald J. Trump (@realDonaldTrump) July 23, 2018\n",
        "tweet2 = \"To Iranian President Rouhani: NEVER, EVER THREATEN THE UNITED STATES AGAIN OR YOU WILL SUFFER CONSEQUENCES THE LIKES OF WHICH FEW THROUGHOUT HISTORY HAVE EVER SUFFERED BEFORE. WE ARE NO LONGER A COUNTRY THAT WILL STAND FOR YOUR DEMENTED WORDS OF VIOLENCE & DEATH. BE CAUTIOUS!\"\n",
        "\n",
        "# Lin Manuel Miranda (@Lin_Manuel) April 29, 2016\n",
        "tweet3 = \"Good morning. You are perfectly cast in your life. I can't imagine anyone but you in the role. Go play.\"\n",
        "# Lin Manuel Miranda (@Lin_Manuel) January 3, 2018\n",
        "tweet4 = \"Find words for all your daily joys & terrors. Gnight; make work that gets us in our feelings. Send off to bed your doubt, your shame, your errors. Break curfew with your muses, shatter ceilings. The year is fresh; wipe clean inertia’s mildew. Grateful for all you do, & all you will do\""
      ],
      "metadata": {
        "id": "k5F6Zo2DJMfO"
      },
      "execution_count": 70,
      "outputs": []
    },
    {
      "cell_type": "markdown",
      "source": [
        "**MLP**"
      ],
      "metadata": {
        "id": "TU41SG1RXfeV"
      }
    },
    {
      "cell_type": "code",
      "source": [
        "# MLP #1\n",
        "predict_sentiment(tweet1, model1)\n",
        "predict_sentiment(tweet2, model1)\n",
        "predict_sentiment(tweet3, model1)\n",
        "predict_sentiment(tweet4, model1)"
      ],
      "metadata": {
        "colab": {
          "base_uri": "https://localhost:8080/",
          "height": 0
        },
        "id": "E4gvMCTLHl4h",
        "outputId": "d88a8854-cd38-4436-92fb-ce99a5cdd8b9"
      },
      "execution_count": 71,
      "outputs": [
        {
          "output_type": "stream",
          "name": "stdout",
          "text": [
            "[[0.47617924]]\n",
            "Prediction: Negative\n",
            "[[0.5409452]]\n",
            "Prediction: Positive\n",
            "[[0.5215847]]\n",
            "Prediction: Positive\n",
            "[[0.5079296]]\n",
            "Prediction: Positive\n"
          ]
        }
      ]
    },
    {
      "cell_type": "code",
      "source": [
        "# MLP #2\n",
        "predict_sentiment(tweet1, model5)\n",
        "predict_sentiment(tweet2, model5)\n",
        "predict_sentiment(tweet3, model5)\n",
        "predict_sentiment(tweet4, model5)"
      ],
      "metadata": {
        "id": "TWCpMdGSHlzQ",
        "colab": {
          "base_uri": "https://localhost:8080/",
          "height": 0
        },
        "outputId": "28dc074c-f9ea-4419-8405-910938f92504"
      },
      "execution_count": 72,
      "outputs": [
        {
          "output_type": "stream",
          "name": "stdout",
          "text": [
            "[[0.0572859]]\n",
            "Prediction: Negative\n",
            "[[0.33587134]]\n",
            "Prediction: Negative\n",
            "[[0.7014046]]\n",
            "Prediction: Positive\n",
            "[[0.7435388]]\n",
            "Prediction: Positive\n"
          ]
        }
      ]
    },
    {
      "cell_type": "markdown",
      "source": [
        "**CNN**"
      ],
      "metadata": {
        "id": "Vpn52C-AXlyC"
      }
    },
    {
      "cell_type": "code",
      "source": [
        "# CNN #1\n",
        "predict_sentiment(tweet1, model2)\n",
        "predict_sentiment(tweet2, model2)\n",
        "predict_sentiment(tweet3, model2)\n",
        "predict_sentiment(tweet4, model2)"
      ],
      "metadata": {
        "colab": {
          "base_uri": "https://localhost:8080/",
          "height": 0
        },
        "id": "rVqCJZVAHljx",
        "outputId": "a278addb-043c-4d70-e7a5-6c05c48a5017"
      },
      "execution_count": 73,
      "outputs": [
        {
          "output_type": "stream",
          "name": "stdout",
          "text": [
            "[[0.38474938]]\n",
            "Prediction: Negative\n",
            "[[0.75988245]]\n",
            "Prediction: Positive\n",
            "[[0.6465994]]\n",
            "Prediction: Positive\n",
            "[[0.64980084]]\n",
            "Prediction: Positive\n"
          ]
        }
      ]
    },
    {
      "cell_type": "code",
      "source": [
        "# CNN #2\n",
        "predict_sentiment(tweet1, model4)\n",
        "predict_sentiment(tweet2, model4)\n",
        "predict_sentiment(tweet3, model4)\n",
        "predict_sentiment(tweet4, model4)"
      ],
      "metadata": {
        "id": "LTL-_krLH0Zz",
        "colab": {
          "base_uri": "https://localhost:8080/",
          "height": 0
        },
        "outputId": "62286516-7bf7-4b41-9442-db444d321cad"
      },
      "execution_count": 74,
      "outputs": [
        {
          "output_type": "stream",
          "name": "stdout",
          "text": [
            "[[0.96331]]\n",
            "Prediction: Positive\n",
            "[[0.99990845]]\n",
            "Prediction: Positive\n",
            "[[0.99952805]]\n",
            "Prediction: Positive\n",
            "[[0.99969876]]\n",
            "Prediction: Positive\n"
          ]
        }
      ]
    },
    {
      "cell_type": "markdown",
      "source": [
        "**LSTM**"
      ],
      "metadata": {
        "id": "0OtgkQ7cXqL2"
      }
    },
    {
      "cell_type": "code",
      "source": [
        "# LSTM\n",
        "predict_sentiment(tweet1, model3)\n",
        "predict_sentiment(tweet2, model3)\n",
        "predict_sentiment(tweet3, model3)\n",
        "predict_sentiment(tweet4, model3)"
      ],
      "metadata": {
        "colab": {
          "base_uri": "https://localhost:8080/",
          "height": 0
        },
        "id": "tK9z8QOLH2Ti",
        "outputId": "9e970a43-5da9-403d-e87d-016e70b903a0"
      },
      "execution_count": 75,
      "outputs": [
        {
          "output_type": "stream",
          "name": "stdout",
          "text": [
            "[[0.00074157]]\n",
            "Prediction: Negative\n",
            "[[0.15411651]]\n",
            "Prediction: Negative\n",
            "[[0.04180038]]\n",
            "Prediction: Negative\n",
            "[[0.00214818]]\n",
            "Prediction: Negative\n"
          ]
        }
      ]
    },
    {
      "cell_type": "markdown",
      "source": [
        "Only using 4 examples does not give very representative data and we see that the results when trying to classify these vary a lot across the models. Still, it is interesting to see how the models work when classifying these, and that they provide very different numbers when predicting the sentiment. We see that the MLP #2 predicts all 4 tweets correctly and CNN #1 and MLP #1 predict 3/4 correctly. CNN #2 and LSTM predicts only 2/4 correctly, which is a bit surprising.\n",
        "\n",
        "To generalize better a larger test set of tweets is needed, perhaps also with a clearer sentiment. "
      ],
      "metadata": {
        "id": "XA4iUp9LbHuG"
      }
    },
    {
      "cell_type": "markdown",
      "metadata": {
        "id": "Un_k6IrTAvcO"
      },
      "source": [
        "# Conclusion\n",
        "The results from the testing set shows that CNN and LSTM gives approximately the same accuracy. Seen as CNN is more widely used in image classification while LSTM is more used in natural language processing, this result is a bit surprising. However, an accuracy of 85% shows that it is fully possible to use CNN for sentiment analysis. \n",
        "\n",
        "Another suprising result was the large difference in accuracy on the MLP when changing the optimization algorithm. Stochastic gradient descent was not very efficient when only using 20 epochs, most likely because it converges very slow. Increasing the number of epochs could be a solution, but a faster way to solve this problem was changing the optimization algorithm to adam. The model now converged after only 4 epochs and at the same time achieving an accuracy of 86.9%. This is approx. the same as the LSTM and CNN, actually a tiny bit above, and it is a much simpler model.\n",
        "\n",
        "In the Stanford paper from 2011, the researchers achieved an accuracy of 88.89% when using the IMDB dataset. Comparing it with the findings from this project, the results are almost the same. However, in later competitions (2014) the participants managed to get a 97-99% accuracy on the same datset. Still, the results of 85-87% shows that the models in most cases manages to predict sentiment correctly, and that the simpler models can be as good as the more time-consuming and complicated ones. "
      ]
    },
    {
      "cell_type": "markdown",
      "source": [
        "# References \n",
        "\n",
        "*   Powerpoints from lectures about deep learning\n",
        "*   https://keras.io/api/\n",
        "*   https://keras.io/api/datasets/imdb/\n",
        "*   https://machinelearningmastery.com/predict-sentiment-movie-reviews-using-deep-learning/\n",
        "*   https://medium.com/mini-distill/effect-of-batch-size-on-training-dynamics-21c14f7a716e\n",
        "*   https://machinelearningmastery.com/what-are-word-embeddings/\n",
        "*   https://machinelearningmastery.com/how-to-reduce-overfitting-with-dropout-regularization-in-keras/\n",
        "*   https://medium.com/geekculture/a-2021-guide-to-improving-cnns-optimizers-adam-vs-sgd-495848ac6008\n",
        "*   https://towardsdatascience.com/understanding-lstm-and-its-quick-implementation-in-keras-for-sentiment-analysis-af410fd85b47\n",
        "*   https://news.sky.com/story/us-election-donald-trumps-45-most-controversial-tweets-12098204\n",
        "*   https://www.buzzfeed.com/vannessajackson/lin-manuel-miranda-inspirational-tweets\n",
        "\n",
        "\n",
        "\n"
      ],
      "metadata": {
        "id": "bdNTc9INJ_8f"
      }
    }
  ]
}